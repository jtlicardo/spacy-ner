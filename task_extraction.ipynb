{
  "nbformat": 4,
  "nbformat_minor": 0,
  "metadata": {
    "colab": {
      "provenance": []
    },
    "kernelspec": {
      "name": "python3",
      "display_name": "Python 3"
    },
    "language_info": {
      "name": "python"
    }
  },
  "cells": [
    {
      "cell_type": "code",
      "execution_count": 1,
      "metadata": {
        "id": "TP_Q3AaE3NHD"
      },
      "outputs": [],
      "source": [
        "import spacy"
      ]
    },
    {
      "cell_type": "code",
      "source": [
        "!git clone https://github.com/jtlicardo/task-extraction/"
      ],
      "metadata": {
        "colab": {
          "base_uri": "https://localhost:8080/"
        },
        "id": "Z4ereOrQ3V3H",
        "outputId": "5c876ab6-5e89-4965-fb76-ae73248b95dd"
      },
      "execution_count": 5,
      "outputs": [
        {
          "output_type": "stream",
          "name": "stdout",
          "text": [
            "Cloning into 'task-extraction'...\n",
            "remote: Enumerating objects: 26, done.\u001b[K\n",
            "remote: Counting objects: 100% (26/26), done.\u001b[K\n",
            "remote: Compressing objects: 100% (20/20), done.\u001b[K\n",
            "remote: Total 26 (delta 2), reused 26 (delta 2), pack-reused 0\u001b[K\n",
            "Unpacking objects: 100% (26/26), done.\n"
          ]
        }
      ]
    },
    {
      "cell_type": "code",
      "source": [
        "TEXT = \"After accepting the offer, he sends the confirmation to the online shop. The online shop then receives the confirmation.\""
      ],
      "metadata": {
        "id": "Iy6LjolV4XQc"
      },
      "execution_count": 12,
      "outputs": []
    },
    {
      "cell_type": "code",
      "source": [
        "nlp = spacy.load(\"./task-extraction/task-extraction-model\")\n",
        "\n",
        "doc = nlp(TEXT)\n",
        "\n",
        "spans = doc.spans[\"sc\"]\n",
        "\n",
        "from spacy import displacy\n",
        "from spacy.tokens import Span\n",
        "\n",
        "displacy.render(doc, style=\"span\", jupyter=True)"
      ],
      "metadata": {
        "colab": {
          "base_uri": "https://localhost:8080/",
          "height": 77
        },
        "id": "KP7HA77C3c25",
        "outputId": "dfa23da0-4fef-42cd-c76a-3ada2ecea3e8"
      },
      "execution_count": 13,
      "outputs": [
        {
          "output_type": "display_data",
          "data": {
            "text/plain": [
              "<IPython.core.display.HTML object>"
            ],
            "text/html": [
              "<span class=\"tex2jax_ignore\"><div class=\"spans\" style=\"line-height: 2.5; direction: ltr\">After \n",
              "<span style=\"font-weight: bold; display: inline-block; position: relative; height: 60px;\">\n",
              "    accepting\n",
              "    \n",
              "<span style=\"background: #ddd; top: 40px; height: 4px; left: -1px; width: calc(100% + 2px); position: absolute;\">\n",
              "</span>\n",
              "\n",
              "    \n",
              "<span style=\"background: #ddd; top: 40px; height: 4px; border-top-left-radius: 3px; border-bottom-left-radius: 3px; left: -1px; width: calc(100% + 2px); position: absolute;\">\n",
              "    <span style=\"background: #ddd; z-index: 10; color: #000; top: -0.5em; padding: 2px 3px; position: absolute; font-size: 0.6em; font-weight: bold; line-height: 1; border-radius: 3px\">\n",
              "        TASK\n",
              "    </span>\n",
              "</span>\n",
              "\n",
              "\n",
              "</span>\n",
              "\n",
              "<span style=\"font-weight: bold; display: inline-block; position: relative; height: 60px;\">\n",
              "    the\n",
              "    \n",
              "<span style=\"background: #ddd; top: 40px; height: 4px; left: -1px; width: calc(100% + 2px); position: absolute;\">\n",
              "</span>\n",
              "\n",
              "    \n",
              "</span>\n",
              "\n",
              "<span style=\"font-weight: bold; display: inline-block; position: relative; height: 60px;\">\n",
              "    offer\n",
              "    \n",
              "<span style=\"background: #ddd; top: 40px; height: 4px; left: -1px; width: calc(100% + 2px); position: absolute;\">\n",
              "</span>\n",
              "\n",
              "    \n",
              "</span>\n",
              ", he \n",
              "<span style=\"font-weight: bold; display: inline-block; position: relative; height: 60px;\">\n",
              "    sends\n",
              "    \n",
              "<span style=\"background: #ddd; top: 40px; height: 4px; left: -1px; width: calc(100% + 2px); position: absolute;\">\n",
              "</span>\n",
              "\n",
              "    \n",
              "<span style=\"background: #ddd; top: 40px; height: 4px; border-top-left-radius: 3px; border-bottom-left-radius: 3px; left: -1px; width: calc(100% + 2px); position: absolute;\">\n",
              "    <span style=\"background: #ddd; z-index: 10; color: #000; top: -0.5em; padding: 2px 3px; position: absolute; font-size: 0.6em; font-weight: bold; line-height: 1; border-radius: 3px\">\n",
              "        TASK\n",
              "    </span>\n",
              "</span>\n",
              "\n",
              "\n",
              "</span>\n",
              "\n",
              "<span style=\"font-weight: bold; display: inline-block; position: relative; height: 60px;\">\n",
              "    the\n",
              "    \n",
              "<span style=\"background: #ddd; top: 40px; height: 4px; left: -1px; width: calc(100% + 2px); position: absolute;\">\n",
              "</span>\n",
              "\n",
              "    \n",
              "</span>\n",
              "\n",
              "<span style=\"font-weight: bold; display: inline-block; position: relative; height: 60px;\">\n",
              "    confirmation\n",
              "    \n",
              "<span style=\"background: #ddd; top: 40px; height: 4px; left: -1px; width: calc(100% + 2px); position: absolute;\">\n",
              "</span>\n",
              "\n",
              "    \n",
              "</span>\n",
              "\n",
              "<span style=\"font-weight: bold; display: inline-block; position: relative; height: 60px;\">\n",
              "    to\n",
              "    \n",
              "<span style=\"background: #ddd; top: 40px; height: 4px; left: -1px; width: calc(100% + 2px); position: absolute;\">\n",
              "</span>\n",
              "\n",
              "    \n",
              "</span>\n",
              "\n",
              "<span style=\"font-weight: bold; display: inline-block; position: relative; height: 60px;\">\n",
              "    the\n",
              "    \n",
              "<span style=\"background: #ddd; top: 40px; height: 4px; left: -1px; width: calc(100% + 2px); position: absolute;\">\n",
              "</span>\n",
              "\n",
              "    \n",
              "</span>\n",
              "\n",
              "<span style=\"font-weight: bold; display: inline-block; position: relative; height: 60px;\">\n",
              "    online\n",
              "    \n",
              "<span style=\"background: #ddd; top: 40px; height: 4px; left: -1px; width: calc(100% + 2px); position: absolute;\">\n",
              "</span>\n",
              "\n",
              "    \n",
              "</span>\n",
              "\n",
              "<span style=\"font-weight: bold; display: inline-block; position: relative; height: 60px;\">\n",
              "    shop\n",
              "    \n",
              "<span style=\"background: #ddd; top: 40px; height: 4px; left: -1px; width: calc(100% + 2px); position: absolute;\">\n",
              "</span>\n",
              "\n",
              "    \n",
              "</span>\n",
              ". The online shop then \n",
              "<span style=\"font-weight: bold; display: inline-block; position: relative; height: 60px;\">\n",
              "    receives\n",
              "    \n",
              "<span style=\"background: #ddd; top: 40px; height: 4px; left: -1px; width: calc(100% + 2px); position: absolute;\">\n",
              "</span>\n",
              "\n",
              "    \n",
              "<span style=\"background: #ddd; top: 40px; height: 4px; border-top-left-radius: 3px; border-bottom-left-radius: 3px; left: -1px; width: calc(100% + 2px); position: absolute;\">\n",
              "    <span style=\"background: #ddd; z-index: 10; color: #000; top: -0.5em; padding: 2px 3px; position: absolute; font-size: 0.6em; font-weight: bold; line-height: 1; border-radius: 3px\">\n",
              "        TASK\n",
              "    </span>\n",
              "</span>\n",
              "\n",
              "\n",
              "</span>\n",
              "\n",
              "<span style=\"font-weight: bold; display: inline-block; position: relative; height: 60px;\">\n",
              "    the\n",
              "    \n",
              "<span style=\"background: #ddd; top: 40px; height: 4px; left: -1px; width: calc(100% + 2px); position: absolute;\">\n",
              "</span>\n",
              "\n",
              "    \n",
              "</span>\n",
              "\n",
              "<span style=\"font-weight: bold; display: inline-block; position: relative; height: 60px;\">\n",
              "    confirmation\n",
              "    \n",
              "<span style=\"background: #ddd; top: 40px; height: 4px; left: -1px; width: calc(100% + 2px); position: absolute;\">\n",
              "</span>\n",
              "\n",
              "    \n",
              "</span>\n",
              ". </div></span>"
            ]
          },
          "metadata": {}
        }
      ]
    },
    {
      "cell_type": "code",
      "source": [
        "newlist = sorted(spans, key=lambda x: x.start)\n",
        "\n",
        "detected_tasks = []\n",
        "\n",
        "for span in newlist:\n",
        "    detected_tasks.append(span.text)\n",
        "\n",
        "lemmatize_verb = spacy.load(\"en_core_web_sm\")\n",
        "\n",
        "tasks_with_lemmatized_verb = []\n",
        "\n",
        "for task in detected_tasks:\n",
        "    current_task = lemmatize_verb(task)\n",
        "    updated_task = \"\"\n",
        "\n",
        "    for token in current_task:\n",
        "        if token.pos_ == \"VERB\":\n",
        "            updated_task += token.lemma_ + \" \"\n",
        "        else:\n",
        "            updated_task += token.text_with_ws\n",
        "\n",
        "    tasks_with_lemmatized_verb.append(updated_task)\n",
        "\n",
        "for task in tasks_with_lemmatized_verb:\n",
        "  print(task)"
      ],
      "metadata": {
        "colab": {
          "base_uri": "https://localhost:8080/"
        },
        "id": "0ltQPHYa4Vrq",
        "outputId": "0eec72a1-fccb-4606-845f-481cacfc5bc1"
      },
      "execution_count": 14,
      "outputs": [
        {
          "output_type": "stream",
          "name": "stdout",
          "text": [
            "accept the offer\n",
            "send the confirmation to the online shop\n",
            "receive the confirmation\n"
          ]
        }
      ]
    }
  ]
}